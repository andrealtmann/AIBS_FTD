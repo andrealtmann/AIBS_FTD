{
 "cells": [
  {
   "cell_type": "markdown",
   "metadata": {},
   "source": [
    "# Probe selection of AIBS\n",
    "To be run after the sample selection.\n",
    "\n",
    "In this step we retain or exclude gene expression probes from the AIBS datasets. We will be using the re-annotated probes using our Re-annotator software (link here) which already prepared for a previous paper: Richiardi et al. (2015). We will use folling parameters for filtering:\n",
    "\n",
    "* exclude probes that were measuring multiple genes\n",
    "* exclude probes that were not mapped to a gene\n",
    "* exclude probes with low expression across the dataset.\n"
   ]
  },
  {
   "cell_type": "code",
   "execution_count": 2,
   "metadata": {},
   "outputs": [],
   "source": [
    "import os, sys\n",
    "import numpy as np\n",
    "import pandas as pd\n",
    "import scipy.spatial\n",
    "#import nipy\n",
    "#import nibabel as nib\n",
    "import math\n",
    "import feather\n",
    "from scipy.stats import t, spearmanr, norm, wilcoxon, mannwhitneyu, ttest_ind\n",
    "import matplotlib\n",
    "from matplotlib.pyplot import scatter\n",
    "from statsmodels.sandbox.stats.multicomp import multipletests\n",
    "from mpl_toolkits.mplot3d import Axes3D\n",
    "from numpy.linalg import svd, eig"
   ]
  },
  {
   "cell_type": "code",
   "execution_count": 3,
   "metadata": {},
   "outputs": [],
   "source": [
    "#some useful functions\n",
    "\n",
    "#3d scatter plots (for point clouds)\n",
    "def quickPlot3DBrain(X,Y,Z, cv='b', angle=[0,90]):\n",
    "    fig = matplotlib.pyplot.figure(figsize=[7,7])\n",
    "    ax = fig.add_subplot(111, projection='3d')\n",
    "    ax.scatter(X, Y, Z, s=2, c=cv)\n",
    "    ax.view_init(angle[0], angle[1])\n",
    "    \n",
    "    ax.xaxis.pane.fill = False\n",
    "    ax.yaxis.pane.fill = False\n",
    "    ax.zaxis.pane.fill = False\n",
    "    \n",
    "    ax.grid(False)\n",
    "    \n",
    "    matplotlib.pyplot.show()\n",
    "\n",
    "#find substrings\n",
    "def FindAnySubstring(mystr, sublist):\n",
    "    for s in sublist:\n",
    "        if mystr.find(s) > -1:\n",
    "            return True\n",
    "    return False\n",
    "\n",
    "#small function to derive the number of genes being tagged\n",
    "def GetUniqueGene(mystr):\n",
    "    tok = mystr.strip().split(' ')\n",
    "    tok_set = set(tok)\n",
    "    return(list(tok_set))\n",
    "\n",
    "def CheckUniqueGene(mystr):\n",
    "    genes = GetUniqueGene(mystr)\n",
    "    return len(genes) == 1"
   ]
  },
  {
   "cell_type": "code",
   "execution_count": 4,
   "metadata": {},
   "outputs": [],
   "source": [
    "#some options\n",
    "AIBS_path='/Users/andre/work/Data/AIBS/'\n",
    "donors=['H0351_1009','H0351_1012', 'H0351_1015', 'H0351_1016', 'H0351_2001', 'H0351_2002']\n",
    "selected_samples_file = \"selected_samples_lh_for_FTD_AIBS.csv\""
   ]
  },
  {
   "cell_type": "code",
   "execution_count": 5,
   "metadata": {},
   "outputs": [
    {
     "data": {
      "text/html": [
       "<div>\n",
       "<style scoped>\n",
       "    .dataframe tbody tr th:only-of-type {\n",
       "        vertical-align: middle;\n",
       "    }\n",
       "\n",
       "    .dataframe tbody tr th {\n",
       "        vertical-align: top;\n",
       "    }\n",
       "\n",
       "    .dataframe thead th {\n",
       "        text-align: right;\n",
       "    }\n",
       "</style>\n",
       "<table border=\"1\" class=\"dataframe\">\n",
       "  <thead>\n",
       "    <tr style=\"text-align: right;\">\n",
       "      <th></th>\n",
       "      <th>well_id</th>\n",
       "      <th>structure_id</th>\n",
       "      <th>slab_num</th>\n",
       "      <th>slab_type</th>\n",
       "      <th>structure_acronym</th>\n",
       "      <th>structure_name</th>\n",
       "      <th>polygon_id</th>\n",
       "      <th>mri_voxel_x</th>\n",
       "      <th>mri_voxel_y</th>\n",
       "      <th>mri_voxel_z</th>\n",
       "      <th>mni_x</th>\n",
       "      <th>mni_y</th>\n",
       "      <th>mni_z</th>\n",
       "      <th>corrected_mni_x</th>\n",
       "      <th>corrected_mni_y</th>\n",
       "      <th>corrected_mni_z</th>\n",
       "      <th>sampleID</th>\n",
       "      <th>probe2label</th>\n",
       "      <th>probe2dist</th>\n",
       "    </tr>\n",
       "  </thead>\n",
       "  <tbody>\n",
       "    <tr>\n",
       "      <th>0</th>\n",
       "      <td>10964</td>\n",
       "      <td>4023</td>\n",
       "      <td>2</td>\n",
       "      <td>CX</td>\n",
       "      <td>SFG-m</td>\n",
       "      <td>superior frontal gyrus, left, medial bank of g...</td>\n",
       "      <td>1266467</td>\n",
       "      <td>96</td>\n",
       "      <td>55</td>\n",
       "      <td>47</td>\n",
       "      <td>-5.0</td>\n",
       "      <td>44.0</td>\n",
       "      <td>54.0</td>\n",
       "      <td>-4.456913</td>\n",
       "      <td>42.626309</td>\n",
       "      <td>53.306473</td>\n",
       "      <td>H0351_1009</td>\n",
       "      <td>192</td>\n",
       "      <td>0.000000</td>\n",
       "    </tr>\n",
       "    <tr>\n",
       "      <th>1</th>\n",
       "      <td>10965</td>\n",
       "      <td>4039</td>\n",
       "      <td>2</td>\n",
       "      <td>CX</td>\n",
       "      <td>trIFG</td>\n",
       "      <td>inferior frontal gyrus, triangular part, left</td>\n",
       "      <td>1266555</td>\n",
       "      <td>128</td>\n",
       "      <td>113</td>\n",
       "      <td>44</td>\n",
       "      <td>-37.0</td>\n",
       "      <td>47.0</td>\n",
       "      <td>-4.0</td>\n",
       "      <td>-37.014483</td>\n",
       "      <td>42.918867</td>\n",
       "      <td>-0.301717</td>\n",
       "      <td>H0351_1009</td>\n",
       "      <td>206</td>\n",
       "      <td>1.000000</td>\n",
       "    </tr>\n",
       "    <tr>\n",
       "      <th>2</th>\n",
       "      <td>10966</td>\n",
       "      <td>4051</td>\n",
       "      <td>3</td>\n",
       "      <td>CX</td>\n",
       "      <td>MOrG</td>\n",
       "      <td>medial orbital gyrus, left</td>\n",
       "      <td>1265851</td>\n",
       "      <td>100</td>\n",
       "      <td>137</td>\n",
       "      <td>59</td>\n",
       "      <td>-9.0</td>\n",
       "      <td>32.0</td>\n",
       "      <td>-28.0</td>\n",
       "      <td>-9.535526</td>\n",
       "      <td>30.015430</td>\n",
       "      <td>-24.276204</td>\n",
       "      <td>H0351_1009</td>\n",
       "      <td>148</td>\n",
       "      <td>0.000000</td>\n",
       "    </tr>\n",
       "    <tr>\n",
       "      <th>3</th>\n",
       "      <td>10972</td>\n",
       "      <td>4224</td>\n",
       "      <td>2</td>\n",
       "      <td>CX</td>\n",
       "      <td>CgGf-i</td>\n",
       "      <td>cingulate gyrus, frontal part, left, inferior ...</td>\n",
       "      <td>1266689</td>\n",
       "      <td>96</td>\n",
       "      <td>110</td>\n",
       "      <td>46</td>\n",
       "      <td>-5.0</td>\n",
       "      <td>45.0</td>\n",
       "      <td>-1.0</td>\n",
       "      <td>-5.445986</td>\n",
       "      <td>42.277137</td>\n",
       "      <td>1.581663</td>\n",
       "      <td>H0351_1009</td>\n",
       "      <td>102</td>\n",
       "      <td>0.000000</td>\n",
       "    </tr>\n",
       "    <tr>\n",
       "      <th>4</th>\n",
       "      <td>10973</td>\n",
       "      <td>4024</td>\n",
       "      <td>3</td>\n",
       "      <td>CX</td>\n",
       "      <td>SFG-l</td>\n",
       "      <td>superior frontal gyrus, left, lateral bank of ...</td>\n",
       "      <td>1265853</td>\n",
       "      <td>114</td>\n",
       "      <td>63</td>\n",
       "      <td>62</td>\n",
       "      <td>-23.0</td>\n",
       "      <td>29.0</td>\n",
       "      <td>46.0</td>\n",
       "      <td>-18.855630</td>\n",
       "      <td>25.569178</td>\n",
       "      <td>43.817038</td>\n",
       "      <td>H0351_1009</td>\n",
       "      <td>192</td>\n",
       "      <td>1.414214</td>\n",
       "    </tr>\n",
       "  </tbody>\n",
       "</table>\n",
       "</div>"
      ],
      "text/plain": [
       "   well_id  structure_id  slab_num slab_type structure_acronym  \\\n",
       "0    10964          4023         2        CX             SFG-m   \n",
       "1    10965          4039         2        CX             trIFG   \n",
       "2    10966          4051         3        CX              MOrG   \n",
       "3    10972          4224         2        CX            CgGf-i   \n",
       "4    10973          4024         3        CX             SFG-l   \n",
       "\n",
       "                                      structure_name  polygon_id  mri_voxel_x  \\\n",
       "0  superior frontal gyrus, left, medial bank of g...     1266467           96   \n",
       "1      inferior frontal gyrus, triangular part, left     1266555          128   \n",
       "2                         medial orbital gyrus, left     1265851          100   \n",
       "3  cingulate gyrus, frontal part, left, inferior ...     1266689           96   \n",
       "4  superior frontal gyrus, left, lateral bank of ...     1265853          114   \n",
       "\n",
       "   mri_voxel_y  mri_voxel_z  mni_x  mni_y  mni_z  corrected_mni_x  \\\n",
       "0           55           47   -5.0   44.0   54.0        -4.456913   \n",
       "1          113           44  -37.0   47.0   -4.0       -37.014483   \n",
       "2          137           59   -9.0   32.0  -28.0        -9.535526   \n",
       "3          110           46   -5.0   45.0   -1.0        -5.445986   \n",
       "4           63           62  -23.0   29.0   46.0       -18.855630   \n",
       "\n",
       "   corrected_mni_y  corrected_mni_z    sampleID  probe2label  probe2dist  \n",
       "0        42.626309        53.306473  H0351_1009          192    0.000000  \n",
       "1        42.918867        -0.301717  H0351_1009          206    1.000000  \n",
       "2        30.015430       -24.276204  H0351_1009          148    0.000000  \n",
       "3        42.277137         1.581663  H0351_1009          102    0.000000  \n",
       "4        25.569178        43.817038  H0351_1009          192    1.414214  "
      ]
     },
     "execution_count": 5,
     "metadata": {},
     "output_type": "execute_result"
    }
   ],
   "source": [
    "sample_info = pd.read_csv(selected_samples_file, index_col=0)\n",
    "sample_info.head()"
   ]
  },
  {
   "cell_type": "code",
   "execution_count": 6,
   "metadata": {
    "scrolled": true
   },
   "outputs": [
    {
     "data": {
      "text/html": [
       "<div>\n",
       "<style scoped>\n",
       "    .dataframe tbody tr th:only-of-type {\n",
       "        vertical-align: middle;\n",
       "    }\n",
       "\n",
       "    .dataframe tbody tr th {\n",
       "        vertical-align: top;\n",
       "    }\n",
       "\n",
       "    .dataframe thead th {\n",
       "        text-align: right;\n",
       "    }\n",
       "</style>\n",
       "<table border=\"1\" class=\"dataframe\">\n",
       "  <thead>\n",
       "    <tr style=\"text-align: right;\">\n",
       "      <th></th>\n",
       "      <th>probe_name</th>\n",
       "      <th>Genes</th>\n",
       "    </tr>\n",
       "  </thead>\n",
       "  <tbody>\n",
       "    <tr>\n",
       "      <th>0</th>\n",
       "      <td>A_23_P100001</td>\n",
       "      <td>FAM174B</td>\n",
       "    </tr>\n",
       "    <tr>\n",
       "      <th>1</th>\n",
       "      <td>A_23_P100011</td>\n",
       "      <td>AP3S2 C15orf38-AP3S2 AP3S2 AP3S2</td>\n",
       "    </tr>\n",
       "    <tr>\n",
       "      <th>2</th>\n",
       "      <td>A_23_P100022</td>\n",
       "      <td>SV2B SV2B</td>\n",
       "    </tr>\n",
       "    <tr>\n",
       "      <th>3</th>\n",
       "      <td>A_23_P100056</td>\n",
       "      <td>RBPMS2</td>\n",
       "    </tr>\n",
       "    <tr>\n",
       "      <th>4</th>\n",
       "      <td>A_23_P100074</td>\n",
       "      <td>AVEN</td>\n",
       "    </tr>\n",
       "  </tbody>\n",
       "</table>\n",
       "</div>"
      ],
      "text/plain": [
       "     probe_name                              Genes\n",
       "0  A_23_P100001                           FAM174B \n",
       "1  A_23_P100011  AP3S2 C15orf38-AP3S2 AP3S2 AP3S2 \n",
       "2  A_23_P100022                         SV2B SV2B \n",
       "3  A_23_P100056                            RBPMS2 \n",
       "4  A_23_P100074                              AVEN "
      ]
     },
     "execution_count": 6,
     "metadata": {},
     "output_type": "execute_result"
    }
   ],
   "source": [
    "#re-annotated probes\n",
    "reannotator = pd.read_csv( os.path.join(AIBS_path, 'AIBS_probe2gene_reannotator.txt'), sep='\\t', names=[\"probe_name\",\"Genes\"])\n",
    "reannotator.head()"
   ]
  },
  {
   "cell_type": "code",
   "execution_count": 7,
   "metadata": {},
   "outputs": [],
   "source": [
    "#in this section we are loading the AIBS data\n",
    "did=donors[0]\n",
    "probe_info=pd.read_csv( os.path.join(AIBS_path, did, 'Probes.csv.gz') )\n",
    "\n",
    "GE_file = os.path.join(AIBS_path, \"GE.feather\")\n",
    "PA_file = os.path.join(AIBS_path, \"PA.feather\")\n"
   ]
  },
  {
   "cell_type": "code",
   "execution_count": 8,
   "metadata": {},
   "outputs": [
    {
     "name": "stderr",
     "output_type": "stream",
     "text": [
      "reading feather files into data frame\n"
     ]
    }
   ],
   "source": [
    "#if we have stored them as .feather files, skip this step.\n",
    "if not os.path.exists(GE_file):\n",
    "    sys.stderr.write(\"reading source files into data frame\\n\")\n",
    "\n",
    "    GE=pd.DataFrame()\n",
    "    PA=pd.DataFrame()\n",
    "    for did in donors:\n",
    "        sys.stderr.write(\"working on donor: \" + did + \"\\n\" )\n",
    "        si_tmp = pd.read_csv( os.path.join(AIBS_path, did, 'SampleAnnot.csv.gz') )\n",
    "        cnames = ['probe_id']\n",
    "        cnames.extend(si_tmp.well_id.tolist())\n",
    "        ge_tmp = pd.read_csv( os.path.join(AIBS_path, did, 'MicroarrayExpression.csv.gz'), names=cnames)\n",
    "        pa_tmp = pd.read_csv( os.path.join(AIBS_path, did, 'PACall.csv.gz'), names=cnames)\n",
    "        if GE.shape == (0,0):\n",
    "            GE = GE.append(ge_tmp)\n",
    "            PA = PA.append(pa_tmp)\n",
    "        else:\n",
    "            GE = pd.merge(GE, ge_tmp, on=\"probe_id\")\n",
    "            PA = pd.merge(PA, pa_tmp, on=\"probe_id\")\n",
    "\n",
    "    feather.write_dataframe(GE, GE_file )\n",
    "    feather.write_dataframe(PA, PA_file )\n",
    "else:\n",
    "    sys.stderr.write(\"reading feather files into data frame\\n\")\n",
    "\n",
    "    GE = feather.read_dataframe(GE_file)\n",
    "    PA = feather.read_dataframe(PA_file)\n"
   ]
  },
  {
   "cell_type": "code",
   "execution_count": 22,
   "metadata": {},
   "outputs": [],
   "source": [
    "pidx_unique = reannotator.Genes.apply(CheckUniqueGene)\n",
    "probe_rm_names = ['dist=',',']\n",
    "#probe_rm_names = [',']\n",
    "pidx_inter   = ~reannotator.Genes.apply(FindAnySubstring, args=[probe_rm_names])\n"
   ]
  },
  {
   "cell_type": "code",
   "execution_count": 25,
   "metadata": {},
   "outputs": [
    {
     "data": {
      "text/plain": [
       "50598"
      ]
     },
     "execution_count": 25,
     "metadata": {},
     "output_type": "execute_result"
    }
   ],
   "source": [
    "sum(pidx_inter & pidx_unique)"
   ]
  },
  {
   "cell_type": "code",
   "execution_count": 26,
   "metadata": {},
   "outputs": [],
   "source": [
    "reanno_keep = reannotator[pidx_inter & pidx_unique]\n",
    "#use_probes \n",
    "probe_info_keep = probe_info.merge(reanno_keep)"
   ]
  },
  {
   "cell_type": "code",
   "execution_count": 27,
   "metadata": {},
   "outputs": [],
   "source": [
    "PA.set_index('probe_id', inplace=True)\n",
    "GE.set_index('probe_id', inplace=True)\n",
    "probe_info_keep = probe_info_keep.set_index('probe_id')"
   ]
  },
  {
   "cell_type": "code",
   "execution_count": 28,
   "metadata": {},
   "outputs": [
    {
     "name": "stdout",
     "output_type": "stream",
     "text": [
      "(49113, 1248)\n"
     ]
    }
   ],
   "source": [
    "##find probes with low expression\n",
    "pa_tmp = PA.loc[probe_info_keep.index, sample_info.well_id.apply(str)]\n",
    "print(pa_tmp.shape)\n",
    "pa_expr = pa_tmp.apply(sum, axis=1)\n",
    "#pidx_minexpr = pa_tmp.apply(sum, axis=1) >= min_expr\n"
   ]
  },
  {
   "cell_type": "code",
   "execution_count": 29,
   "metadata": {},
   "outputs": [
    {
     "data": {
      "text/plain": [
       "<matplotlib.axes._subplots.AxesSubplot at 0x1259e0ac8>"
      ]
     },
     "execution_count": 29,
     "metadata": {},
     "output_type": "execute_result"
    },
    {
     "data": {
      "image/png": "[encoded data removed]",
      "text/plain": [
       "<Figure size 432x288 with 1 Axes>"
      ]
     },
     "metadata": {
      "needs_background": "light"
     },
     "output_type": "display_data"
    }
   ],
   "source": [
    "pa_expr.hist(bins=100)"
   ]
  },
  {
   "cell_type": "code",
   "execution_count": 30,
   "metadata": {},
   "outputs": [],
   "source": [
    "def probes2genes(plist):\n",
    "    tmp=plist.Genes.apply(GetUniqueGene).values\n",
    "    tmp2=[]\n",
    "    for x in tmp:\n",
    "        tmp2.append(x[0])\n",
    "    return(list(set(tmp2)))"
   ]
  },
  {
   "cell_type": "code",
   "execution_count": 31,
   "metadata": {},
   "outputs": [
    {
     "name": "stdout",
     "output_type": "stream",
     "text": [
      "200 37551\n",
      "200 17064\n",
      "300 36657\n",
      "300 16772\n",
      "600 34512\n",
      "600 16103\n",
      "900 32251\n",
      "900 15412\n",
      "1100 29888\n",
      "1100 14677\n"
     ]
    }
   ],
   "source": [
    "for i in [200, 300, 600, 900, 1100]:\n",
    "    print(str(i) + \" \" + str(sum(pa_expr>=i)))\n",
    "    print(str(i) + \" \" + str(len(probes2genes(probe_info_keep[pa_expr>i]))))"
   ]
  },
  {
   "cell_type": "code",
   "execution_count": 27,
   "metadata": {},
   "outputs": [
    {
     "data": {
      "text/plain": [
       "(36657, 1248)"
      ]
     },
     "execution_count": 27,
     "metadata": {},
     "output_type": "execute_result"
    }
   ],
   "source": [
    "GE_use = GE.loc[probe_info_keep[pa_expr>=300].index, sample_info.well_id.apply(str)]\n",
    "GE_use.shape"
   ]
  },
  {
   "cell_type": "code",
   "execution_count": 28,
   "metadata": {},
   "outputs": [],
   "source": [
    "probes_for_analysis = probe_info_keep[pa_expr>=300]\n",
    "probes_for_analysis.to_csv(\"./probes_for_analysis.csv\")"
   ]
  },
  {
   "cell_type": "code",
   "execution_count": null,
   "metadata": {},
   "outputs": [],
   "source": []
  },
  {
   "cell_type": "markdown",
   "metadata": {},
   "source": [
    "## Continue here with analysis\n"
   ]
  },
  {
   "cell_type": "code",
   "execution_count": 143,
   "metadata": {},
   "outputs": [],
   "source": [
    "def my_corrcoef(x, y):\n",
    "    #x may contain missing values\n",
    "    mynull = pd.isnull(x)\n",
    "    #print(mynull.head())\n",
    "    #print(x.head())\n",
    "    #print(y.head())\n",
    "    #res = np.corrcoef(x[~mynull], y[~mynull])\n",
    "    res = spearmanr(x[~mynull], y[~mynull])\n",
    "    return(res[0])\n",
    "\n",
    "def getPvalue(meas, perm):\n",
    "    if meas > 0:\n",
    "        return(sum(perm >= meas)/len(perm))\n",
    "    else:\n",
    "        return(sum(perm <= meas)/len(perm))"
   ]
  },
  {
   "cell_type": "code",
   "execution_count": 144,
   "metadata": {},
   "outputs": [],
   "source": [
    "ftd_gene = \"MAPT\"\n",
    "\n",
    "#load img_values\n",
    "image_values = pd.read_csv(\"image_values_permutation_\"+ftd_gene+\".csv\", index_col=0)"
   ]
  },
  {
   "cell_type": "code",
   "execution_count": 209,
   "metadata": {},
   "outputs": [],
   "source": [
    "probe_name = \"A_24_P278460\""
   ]
  },
  {
   "cell_type": "code",
   "execution_count": 210,
   "metadata": {},
   "outputs": [],
   "source": [
    "probe_id = probe_info[probe_info.probe_name == probe_name].probe_id"
   ]
  },
  {
   "cell_type": "code",
   "execution_count": 211,
   "metadata": {},
   "outputs": [],
   "source": [
    "tmp = GE_use.loc[probe_id, image_values.index.astype(str)].transpose()"
   ]
  },
  {
   "cell_type": "code",
   "execution_count": 212,
   "metadata": {},
   "outputs": [],
   "source": [
    "tmp.set_index(image_values.index, inplace=True)"
   ]
  },
  {
   "cell_type": "code",
   "execution_count": 213,
   "metadata": {},
   "outputs": [],
   "source": [
    "tmp2 = image_values.apply(lambda x: my_corrcoef(x, tmp.iloc[:,0]), axis=0)\n"
   ]
  },
  {
   "cell_type": "code",
   "execution_count": 214,
   "metadata": {},
   "outputs": [
    {
     "data": {
      "text/plain": [
       "0.006"
      ]
     },
     "execution_count": 214,
     "metadata": {},
     "output_type": "execute_result"
    }
   ],
   "source": [
    "getPvalue(tmp2[1], tmp2[2:])"
   ]
  },
  {
   "cell_type": "code",
   "execution_count": 215,
   "metadata": {},
   "outputs": [
    {
     "data": {
      "text/plain": [
       "original     -0.121682\n",
       "unpermuted   -0.112666\n",
       "spin_1       -0.019078\n",
       "spin_2        0.060610\n",
       "spin_3       -0.034019\n",
       "spin_4       -0.027176\n",
       "spin_5       -0.007994\n",
       "spin_6        0.030186\n",
       "spin_7        0.043236\n",
       "spin_8        0.084368\n",
       "spin_9       -0.044162\n",
       "spin_10      -0.087951\n",
       "spin_11       0.004808\n",
       "spin_12      -0.079740\n",
       "spin_13      -0.041513\n",
       "spin_14      -0.013843\n",
       "spin_15       0.037019\n",
       "spin_16       0.002218\n",
       "spin_17      -0.059608\n",
       "spin_18       0.064964\n",
       "spin_19       0.010277\n",
       "spin_20      -0.074462\n",
       "spin_21      -0.014475\n",
       "spin_22       0.049020\n",
       "spin_23      -0.026432\n",
       "spin_24      -0.052932\n",
       "spin_25       0.091118\n",
       "spin_26       0.025503\n",
       "spin_27      -0.043384\n",
       "spin_28      -0.024945\n",
       "                ...   \n",
       "spin_971      0.102009\n",
       "spin_972      0.017674\n",
       "spin_973      0.078638\n",
       "spin_974     -0.049980\n",
       "spin_975      0.011099\n",
       "spin_976     -0.043936\n",
       "spin_977      0.006407\n",
       "spin_978     -0.024021\n",
       "spin_979     -0.036957\n",
       "spin_980     -0.066134\n",
       "spin_981     -0.056356\n",
       "spin_982     -0.029072\n",
       "spin_983     -0.050329\n",
       "spin_984      0.068525\n",
       "spin_985      0.010526\n",
       "spin_986     -0.070472\n",
       "spin_987      0.025980\n",
       "spin_988      0.056075\n",
       "spin_989      0.055475\n",
       "spin_990      0.024731\n",
       "spin_991     -0.025993\n",
       "spin_992     -0.073700\n",
       "spin_993      0.001086\n",
       "spin_994     -0.020424\n",
       "spin_995     -0.088186\n",
       "spin_996      0.060933\n",
       "spin_997      0.082440\n",
       "spin_998      0.044775\n",
       "spin_999     -0.015819\n",
       "spin_1000    -0.014176\n",
       "Length: 1002, dtype: float64"
      ]
     },
     "execution_count": 215,
     "metadata": {},
     "output_type": "execute_result"
    }
   ],
   "source": [
    "tmp2"
   ]
  },
  {
   "cell_type": "code",
   "execution_count": null,
   "metadata": {},
   "outputs": [],
   "source": []
  }
 ],
 "metadata": {
  "kernelspec": {
   "display_name": "Python 3",
   "language": "python",
   "name": "python3"
  },
  "language_info": {
   "codemirror_mode": {
    "name": "ipython",
    "version": 3
   },
   "file_extension": ".py",
   "mimetype": "text/x-python",
   "name": "python",
   "nbconvert_exporter": "python",
   "pygments_lexer": "ipython3",
   "version": "3.6.8"
  }
 },
 "nbformat": 4,
 "nbformat_minor": 2
}
