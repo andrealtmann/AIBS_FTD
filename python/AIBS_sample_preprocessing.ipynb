{
 "cells": [
  {
   "cell_type": "markdown",
   "metadata": {},
   "source": [
    "# AIBS sample selection"
   ]
  },
  {
   "cell_type": "code",
   "execution_count": 4,
   "metadata": {},
   "outputs": [],
   "source": [
    "import os, sys\n",
    "import numpy as np\n",
    "import pandas as pd\n",
    "import scipy.spatial\n",
    "#import nipy\n",
    "#import nibabel as nib\n",
    "import math\n",
    "import feather\n",
    "from scipy.stats import t, spearmanr, norm, wilcoxon, mannwhitneyu, ttest_ind\n",
    "import matplotlib\n",
    "from matplotlib.pyplot import scatter\n",
    "from statsmodels.sandbox.stats.multicomp import multipletests\n",
    "from mpl_toolkits.mplot3d import Axes3D\n",
    "from numpy.linalg import svd, eig\n"
   ]
  },
  {
   "cell_type": "code",
   "execution_count": 1,
   "metadata": {},
   "outputs": [],
   "source": [
    "#some useful functions\n",
    "\n",
    "#3d scatter plots (for point clouds)\n",
    "def quickPlot3DBrain(X,Y,Z, cv='b', angle=[0,90]):\n",
    "    fig = matplotlib.pyplot.figure(figsize=[7,7])\n",
    "    ax = fig.add_subplot(111, projection='3d')\n",
    "    ax.scatter(X, Y, Z, s=2, c=cv)\n",
    "    ax.view_init(angle[0], angle[1])\n",
    "    \n",
    "    ax.xaxis.pane.fill = False\n",
    "    ax.yaxis.pane.fill = False\n",
    "    ax.zaxis.pane.fill = False\n",
    "    \n",
    "    ax.grid(False)\n",
    "    \n",
    "    matplotlib.pyplot.show()\n",
    "\n",
    "#find substrings\n",
    "def FindAnySubstring(mystr, sublist):\n",
    "    for s in sublist:\n",
    "        if mystr.find(s) > -1:\n",
    "            return True\n",
    "    return False\n",
    "\n",
    "#small function to derive the number of genes being tagged\n",
    "def GetUniqueGene(mystr):\n",
    "    tok = mystr.strip().split(' ')\n",
    "    tok_set = set(tok)\n",
    "    return(list(tok_set))\n",
    "\n",
    "def CheckUniqueGene(mystr):\n",
    "    genes = GetUniqueGene(mystr)\n",
    "    return len(genes) == 1\n"
   ]
  },
  {
   "cell_type": "code",
   "execution_count": 82,
   "metadata": {},
   "outputs": [],
   "source": [
    "#some options\n",
    "AIBS_path='/Users/andre/work/Data/AIBS/'\n",
    "donors=['H0351_1009','H0351_1012', 'H0351_1015', 'H0351_1016', 'H0351_2001', 'H0351_2002']\n",
    "max_probe_dist=3"
   ]
  },
  {
   "cell_type": "code",
   "execution_count": 83,
   "metadata": {},
   "outputs": [
    {
     "data": {
      "text/html": [
       "<div>\n",
       "<style scoped>\n",
       "    .dataframe tbody tr th:only-of-type {\n",
       "        vertical-align: middle;\n",
       "    }\n",
       "\n",
       "    .dataframe tbody tr th {\n",
       "        vertical-align: top;\n",
       "    }\n",
       "\n",
       "    .dataframe thead th {\n",
       "        text-align: right;\n",
       "    }\n",
       "</style>\n",
       "<table border=\"1\" class=\"dataframe\">\n",
       "  <thead>\n",
       "    <tr style=\"text-align: right;\">\n",
       "      <th></th>\n",
       "      <th>well_id</th>\n",
       "      <th>corrected_mni_x</th>\n",
       "      <th>corrected_mni_y</th>\n",
       "      <th>corrected_mni_z</th>\n",
       "    </tr>\n",
       "  </thead>\n",
       "  <tbody>\n",
       "    <tr>\n",
       "      <th>0</th>\n",
       "      <td>126439333</td>\n",
       "      <td>-13.467693</td>\n",
       "      <td>2.255686</td>\n",
       "      <td>3.432523</td>\n",
       "    </tr>\n",
       "    <tr>\n",
       "      <th>1</th>\n",
       "      <td>126432538</td>\n",
       "      <td>-53.603259</td>\n",
       "      <td>-8.120055</td>\n",
       "      <td>0.868643</td>\n",
       "    </tr>\n",
       "    <tr>\n",
       "      <th>2</th>\n",
       "      <td>126435762</td>\n",
       "      <td>-16.288739</td>\n",
       "      <td>-34.198856</td>\n",
       "      <td>-19.944686</td>\n",
       "    </tr>\n",
       "    <tr>\n",
       "      <th>3</th>\n",
       "      <td>126439285</td>\n",
       "      <td>-17.820212</td>\n",
       "      <td>3.595613</td>\n",
       "      <td>-32.872868</td>\n",
       "    </tr>\n",
       "    <tr>\n",
       "      <th>4</th>\n",
       "      <td>126435744</td>\n",
       "      <td>-23.726456</td>\n",
       "      <td>-25.139000</td>\n",
       "      <td>-16.692841</td>\n",
       "    </tr>\n",
       "  </tbody>\n",
       "</table>\n",
       "</div>"
      ],
      "text/plain": [
       "     well_id  corrected_mni_x  corrected_mni_y  corrected_mni_z\n",
       "0  126439333       -13.467693         2.255686         3.432523\n",
       "1  126432538       -53.603259        -8.120055         0.868643\n",
       "2  126435762       -16.288739       -34.198856       -19.944686\n",
       "3  126439285       -17.820212         3.595613       -32.872868\n",
       "4  126435744       -23.726456       -25.139000       -16.692841"
      ]
     },
     "execution_count": 83,
     "metadata": {},
     "output_type": "execute_result"
    }
   ],
   "source": [
    "##read list of mni_coordinates\n",
    "#they are obtained from:\n",
    "#github \n",
    "mni_coord = pd.read_csv( os.path.join(AIBS_path, 'corrected_mni_coordinates.csv'))\n",
    "mni_coord.head()"
   ]
  },
  {
   "cell_type": "code",
   "execution_count": 84,
   "metadata": {},
   "outputs": [],
   "source": [
    "sample_info = pd.read_csv(\"/Users/andre/work/Data/AIBS/GIF_labels_mod_sample_info_newmni.csv\")"
   ]
  },
  {
   "cell_type": "code",
   "execution_count": 85,
   "metadata": {},
   "outputs": [
    {
     "data": {
      "text/html": [
       "<div>\n",
       "<style scoped>\n",
       "    .dataframe tbody tr th:only-of-type {\n",
       "        vertical-align: middle;\n",
       "    }\n",
       "\n",
       "    .dataframe tbody tr th {\n",
       "        vertical-align: top;\n",
       "    }\n",
       "\n",
       "    .dataframe thead th {\n",
       "        text-align: right;\n",
       "    }\n",
       "</style>\n",
       "<table border=\"1\" class=\"dataframe\">\n",
       "  <thead>\n",
       "    <tr style=\"text-align: right;\">\n",
       "      <th></th>\n",
       "      <th>well_id</th>\n",
       "      <th>structure_id</th>\n",
       "      <th>slab_num</th>\n",
       "      <th>slab_type</th>\n",
       "      <th>structure_acronym</th>\n",
       "      <th>structure_name</th>\n",
       "      <th>polygon_id</th>\n",
       "      <th>mri_voxel_x</th>\n",
       "      <th>mri_voxel_y</th>\n",
       "      <th>mri_voxel_z</th>\n",
       "      <th>mni_x</th>\n",
       "      <th>mni_y</th>\n",
       "      <th>mni_z</th>\n",
       "      <th>corrected_mni_x</th>\n",
       "      <th>corrected_mni_y</th>\n",
       "      <th>corrected_mni_z</th>\n",
       "      <th>sampleID</th>\n",
       "      <th>probe2label</th>\n",
       "      <th>probe2dist</th>\n",
       "    </tr>\n",
       "  </thead>\n",
       "  <tbody>\n",
       "    <tr>\n",
       "      <th>0</th>\n",
       "      <td>10964</td>\n",
       "      <td>4023</td>\n",
       "      <td>2</td>\n",
       "      <td>CX</td>\n",
       "      <td>SFG-m</td>\n",
       "      <td>superior frontal gyrus, left, medial bank of g...</td>\n",
       "      <td>1266467</td>\n",
       "      <td>96</td>\n",
       "      <td>55</td>\n",
       "      <td>47</td>\n",
       "      <td>-5.0</td>\n",
       "      <td>44.0</td>\n",
       "      <td>54.0</td>\n",
       "      <td>-4.456913</td>\n",
       "      <td>42.626309</td>\n",
       "      <td>53.306473</td>\n",
       "      <td>H0351_1009</td>\n",
       "      <td>192</td>\n",
       "      <td>0.000000</td>\n",
       "    </tr>\n",
       "    <tr>\n",
       "      <th>1</th>\n",
       "      <td>10965</td>\n",
       "      <td>4039</td>\n",
       "      <td>2</td>\n",
       "      <td>CX</td>\n",
       "      <td>trIFG</td>\n",
       "      <td>inferior frontal gyrus, triangular part, left</td>\n",
       "      <td>1266555</td>\n",
       "      <td>128</td>\n",
       "      <td>113</td>\n",
       "      <td>44</td>\n",
       "      <td>-37.0</td>\n",
       "      <td>47.0</td>\n",
       "      <td>-4.0</td>\n",
       "      <td>-37.014483</td>\n",
       "      <td>42.918867</td>\n",
       "      <td>-0.301717</td>\n",
       "      <td>H0351_1009</td>\n",
       "      <td>206</td>\n",
       "      <td>1.000000</td>\n",
       "    </tr>\n",
       "    <tr>\n",
       "      <th>2</th>\n",
       "      <td>10966</td>\n",
       "      <td>4051</td>\n",
       "      <td>3</td>\n",
       "      <td>CX</td>\n",
       "      <td>MOrG</td>\n",
       "      <td>medial orbital gyrus, left</td>\n",
       "      <td>1265851</td>\n",
       "      <td>100</td>\n",
       "      <td>137</td>\n",
       "      <td>59</td>\n",
       "      <td>-9.0</td>\n",
       "      <td>32.0</td>\n",
       "      <td>-28.0</td>\n",
       "      <td>-9.535526</td>\n",
       "      <td>30.015430</td>\n",
       "      <td>-24.276204</td>\n",
       "      <td>H0351_1009</td>\n",
       "      <td>148</td>\n",
       "      <td>0.000000</td>\n",
       "    </tr>\n",
       "    <tr>\n",
       "      <th>3</th>\n",
       "      <td>10972</td>\n",
       "      <td>4224</td>\n",
       "      <td>2</td>\n",
       "      <td>CX</td>\n",
       "      <td>CgGf-i</td>\n",
       "      <td>cingulate gyrus, frontal part, left, inferior ...</td>\n",
       "      <td>1266689</td>\n",
       "      <td>96</td>\n",
       "      <td>110</td>\n",
       "      <td>46</td>\n",
       "      <td>-5.0</td>\n",
       "      <td>45.0</td>\n",
       "      <td>-1.0</td>\n",
       "      <td>-5.445986</td>\n",
       "      <td>42.277137</td>\n",
       "      <td>1.581663</td>\n",
       "      <td>H0351_1009</td>\n",
       "      <td>102</td>\n",
       "      <td>0.000000</td>\n",
       "    </tr>\n",
       "    <tr>\n",
       "      <th>4</th>\n",
       "      <td>10973</td>\n",
       "      <td>4024</td>\n",
       "      <td>3</td>\n",
       "      <td>CX</td>\n",
       "      <td>SFG-l</td>\n",
       "      <td>superior frontal gyrus, left, lateral bank of ...</td>\n",
       "      <td>1265853</td>\n",
       "      <td>114</td>\n",
       "      <td>63</td>\n",
       "      <td>62</td>\n",
       "      <td>-23.0</td>\n",
       "      <td>29.0</td>\n",
       "      <td>46.0</td>\n",
       "      <td>-18.855630</td>\n",
       "      <td>25.569178</td>\n",
       "      <td>43.817038</td>\n",
       "      <td>H0351_1009</td>\n",
       "      <td>192</td>\n",
       "      <td>1.414214</td>\n",
       "    </tr>\n",
       "  </tbody>\n",
       "</table>\n",
       "</div>"
      ],
      "text/plain": [
       "   well_id  structure_id  slab_num slab_type structure_acronym  \\\n",
       "0    10964          4023         2        CX             SFG-m   \n",
       "1    10965          4039         2        CX             trIFG   \n",
       "2    10966          4051         3        CX              MOrG   \n",
       "3    10972          4224         2        CX            CgGf-i   \n",
       "4    10973          4024         3        CX             SFG-l   \n",
       "\n",
       "                                      structure_name  polygon_id  mri_voxel_x  \\\n",
       "0  superior frontal gyrus, left, medial bank of g...     1266467           96   \n",
       "1      inferior frontal gyrus, triangular part, left     1266555          128   \n",
       "2                         medial orbital gyrus, left     1265851          100   \n",
       "3  cingulate gyrus, frontal part, left, inferior ...     1266689           96   \n",
       "4  superior frontal gyrus, left, lateral bank of ...     1265853          114   \n",
       "\n",
       "   mri_voxel_y  mri_voxel_z  mni_x  mni_y  mni_z  corrected_mni_x  \\\n",
       "0           55           47   -5.0   44.0   54.0        -4.456913   \n",
       "1          113           44  -37.0   47.0   -4.0       -37.014483   \n",
       "2          137           59   -9.0   32.0  -28.0        -9.535526   \n",
       "3          110           46   -5.0   45.0   -1.0        -5.445986   \n",
       "4           63           62  -23.0   29.0   46.0       -18.855630   \n",
       "\n",
       "   corrected_mni_y  corrected_mni_z    sampleID  probe2label  probe2dist  \n",
       "0        42.626309        53.306473  H0351_1009          192    0.000000  \n",
       "1        42.918867        -0.301717  H0351_1009          206    1.000000  \n",
       "2        30.015430       -24.276204  H0351_1009          148    0.000000  \n",
       "3        42.277137         1.581663  H0351_1009          102    0.000000  \n",
       "4        25.569178        43.817038  H0351_1009          192    1.414214  "
      ]
     },
     "execution_count": 85,
     "metadata": {},
     "output_type": "execute_result"
    }
   ],
   "source": [
    "sample_info.head()"
   ]
  },
  {
   "cell_type": "code",
   "execution_count": 86,
   "metadata": {},
   "outputs": [],
   "source": [
    "#restrict samples:\n",
    "#some helper variables (note: sample info was annoated with GIF labels)\n",
    "#all labels\n",
    "al = list(set(sample_info.probe2label))\n",
    "al.sort()\n",
    "\n",
    "#cortical labels\n",
    "cor_lab = list(pd.Series(al)[pd.Series(al) > 100])\n",
    "#left hemisphere\n",
    "lcor_lab = np.arange(102,208,2)\n",
    "#right hemisphere\n",
    "rcor_lab = np.arange(101,207,2)\n"
   ]
  },
  {
   "cell_type": "code",
   "execution_count": 87,
   "metadata": {},
   "outputs": [],
   "source": [
    "#annotated with left cortex by GIF\n",
    "lh_cort_idx = sample_info.apply(lambda x: x[\"probe2label\"] in lcor_lab, axis=1)\n",
    "#slab type == \"CX\"\n",
    "cx_idx = sample_info.slab_type == \"CX\"\n",
    "#max 2 mm away from label\n",
    "pdist_idx = sample_info.probe2dist <= max_probe_dist"
   ]
  },
  {
   "cell_type": "code",
   "execution_count": 88,
   "metadata": {},
   "outputs": [
    {
     "data": {
      "text/plain": [
       "array([[<matplotlib.axes._subplots.AxesSubplot object at 0x1215cde10>]],\n",
       "      dtype=object)"
      ]
     },
     "execution_count": 88,
     "metadata": {},
     "output_type": "execute_result"
    },
    {
     "data": {
      "image/png": "[encoded data removed]",
      "text/plain": [
       "<Figure size 432x288 with 1 Axes>"
      ]
     },
     "metadata": {
      "needs_background": "light"
     },
     "output_type": "display_data"
    }
   ],
   "source": [
    "sample_info[lh_cort_idx & cx_idx & pdist_idx].hist(\"probe2dist\")"
   ]
  },
  {
   "cell_type": "code",
   "execution_count": 89,
   "metadata": {},
   "outputs": [],
   "source": [
    "sample_info_v2 = sample_info[lh_cort_idx & cx_idx & pdist_idx]"
   ]
  },
  {
   "cell_type": "code",
   "execution_count": 90,
   "metadata": {},
   "outputs": [],
   "source": [
    "#set(sample_info_v2.structure_name.values)"
   ]
  },
  {
   "cell_type": "code",
   "execution_count": 91,
   "metadata": {},
   "outputs": [],
   "source": [
    "#remove structure names containing following strings\n",
    "rm_names=[\"CA1 field\",\"CA2 field\",\"CA3 field\",\"CA4 field\",\"amygdalohippocampal transition zone\",\"basal nucleus of meynert\",\n",
    "          \"basolateral nucleus\",\"claustrum\",\"corpus callosum\",\"cortico-medial group\",\"dentate gyrus\",\"lateral nucleus\",\n",
    "          \"nucleus accumbens\",\"nucleus of the diagonal band\",\"pineal gland\",\"piriform cortex\",\"putamen\",\"septal nuclei\",\n",
    "          \"subiculum\",\"substantia nigra\",\"tail of caudate nucleus\",\"right\"]\n",
    "rm_names_idx = sample_info_v2.apply(lambda x: FindAnySubstring(x.structure_name, rm_names), axis=1)\n",
    "rm_names_idx_plot = sample_info.apply(lambda x: FindAnySubstring(x.structure_name, rm_names), axis=1)\n"
   ]
  },
  {
   "cell_type": "code",
   "execution_count": 92,
   "metadata": {},
   "outputs": [
    {
     "data": {
      "image/png": "[encoded data removed]",
      "text/plain": [
       "<Figure size 504x504 with 1 Axes>"
      ]
     },
     "metadata": {
      "needs_background": "light"
     },
     "output_type": "display_data"
    }
   ],
   "source": [
    "#plot for visual inspection\n",
    "my_col = pd.Series(['grey'] * sample_info.shape[0])\n",
    "my_col[~lh_cort_idx] = 'grey'\n",
    "my_col[~cx_idx ] = 'y'\n",
    "my_col[~pdist_idx & lh_cort_idx] = 'orange'\n",
    "my_col[rm_names_idx_plot & lh_cort_idx & cx_idx & pdist_idx] = 'r'\n",
    "my_col[~rm_names_idx_plot & lh_cort_idx & cx_idx & pdist_idx] = 'b'\n",
    "quickPlot3DBrain(sample_info.corrected_mni_x, sample_info.corrected_mni_y, sample_info.corrected_mni_z, cv=my_col)"
   ]
  },
  {
   "cell_type": "code",
   "execution_count": 93,
   "metadata": {},
   "outputs": [],
   "source": [
    "sample_info_v3 = sample_info_v2[~rm_names_idx]"
   ]
  },
  {
   "cell_type": "code",
   "execution_count": 94,
   "metadata": {},
   "outputs": [
    {
     "data": {
      "text/plain": [
       "(1248, 19)"
      ]
     },
     "execution_count": 94,
     "metadata": {},
     "output_type": "execute_result"
    }
   ],
   "source": [
    "sample_info_v3.shape"
   ]
  },
  {
   "cell_type": "code",
   "execution_count": 96,
   "metadata": {},
   "outputs": [],
   "source": [
    "#store well_ids\n",
    "sample_info_v3.well_id.to_csv(\"FTD_AIBS_well_ids.csv\", index=False)"
   ]
  },
  {
   "cell_type": "code",
   "execution_count": 97,
   "metadata": {},
   "outputs": [],
   "source": [
    "sample_info_v3.to_csv(\"selected_samples_lh_for_FTD_AIBS.csv\")"
   ]
  }
 ],
 "metadata": {
  "kernelspec": {
   "display_name": "Python 3",
   "language": "python",
   "name": "python3"
  },
  "language_info": {
   "codemirror_mode": {
    "name": "ipython",
    "version": 3
   },
   "file_extension": ".py",
   "mimetype": "text/x-python",
   "name": "python",
   "nbconvert_exporter": "python",
   "pygments_lexer": "ipython3",
   "version": "3.6.8"
  }
 },
 "nbformat": 4,
 "nbformat_minor": 2
}
