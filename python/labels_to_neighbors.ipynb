{
 "cells": [
  {
   "cell_type": "markdown",
   "metadata": {},
   "source": [
    "# Convert labels to neighbors\n",
    "Turn a nifti file with ROIs to an adjecency matrix.\n",
    "\n",
    "*Background:* the statistical analysis requires an adjacency matrix (or graph) for the samples. One simple approach is to mark all sames from the same ROI as adjacent as well as samples from adjacent ROIs. This is what the first part of the script achieves (but wasn't used for the final analysis).\n",
    "\n"
   ]
  },
  {
   "cell_type": "code",
   "execution_count": 3,
   "metadata": {},
   "outputs": [],
   "source": [
    "import os, sys\n",
    "import numpy as np\n",
    "import pandas as pd\n",
    "import nibabel as nib\n",
    "import scipy.spatial\n",
    "import matplotlib\n",
    "from matplotlib.pyplot import scatter"
   ]
  },
  {
   "cell_type": "code",
   "execution_count": 4,
   "metadata": {},
   "outputs": [],
   "source": [
    "nifti_file = \"../img_data/GIF_labels_mod.nii.gz\"\n",
    "selected_samples_file=\"../data/selected_samples_lh_for_FTD_AIBS.csv\""
   ]
  },
  {
   "cell_type": "code",
   "execution_count": 5,
   "metadata": {},
   "outputs": [],
   "source": [
    "\n",
    "img_data  = os.path.join('./' , nifti_file)\n",
    "label_map = nib.load(img_data)\n",
    "label_dat = label_map.get_data()"
   ]
  },
  {
   "cell_type": "code",
   "execution_count": 6,
   "metadata": {},
   "outputs": [],
   "source": [
    "unique_labels = list(np.unique(label_dat).astype(int).astype(str))"
   ]
  },
  {
   "cell_type": "code",
   "execution_count": 7,
   "metadata": {},
   "outputs": [],
   "source": [
    "#remove 0\n",
    "unique_labels.remove('0')"
   ]
  },
  {
   "cell_type": "code",
   "execution_count": 8,
   "metadata": {},
   "outputs": [],
   "source": [
    "N=len(unique_labels)"
   ]
  },
  {
   "cell_type": "code",
   "execution_count": 9,
   "metadata": {},
   "outputs": [],
   "source": [
    "A = pd.DataFrame(np.zeros([N,N], int))\n",
    "A.columns=unique_labels\n",
    "A.index=unique_labels"
   ]
  },
  {
   "cell_type": "code",
   "execution_count": 10,
   "metadata": {},
   "outputs": [],
   "source": [
    "dims = label_dat.shape"
   ]
  },
  {
   "cell_type": "code",
   "execution_count": 11,
   "metadata": {},
   "outputs": [
    {
     "name": "stderr",
     "output_type": "stream",
     "text": [
      "123456789101112131415161718192021222324252627282930313233343536373839404142434445464748495051525354555657585960616263646566676869707172737475767778798081828384858687888990919293949596979899100101102103104105106107108109110111112113114115116117118119120121122123124125126127128129130131132133134135136137138139140141142143144145146147148149150151152153154155156157158159160161162163164165166167168169170171172173174175176177178179180181"
     ]
    }
   ],
   "source": [
    "#very brute force appraoch...\n",
    "for x in range(1,dims[0]):\n",
    "    sys.stderr.write(str(x))\n",
    "    for y in range(1, dims[1]):\n",
    "        for z in range(1, dims[2]):\n",
    "            me = int(label_dat[x,y,z])\n",
    "            if me > 0:\n",
    "                for x2 in range(-1,0):\n",
    "                    for y2 in range(-1,0):\n",
    "                        for z2 in range(-1,0):\n",
    "                            before = int(label_dat[x+x2,y+y2,z+z2])\n",
    "                            if before > 0 and before != me:\n",
    "                                #add to adjecency matrix\n",
    "                                A.loc[str(me),str(before)] = 1\n",
    "                                A.loc[str(before),str(me)] = 1\n"
   ]
  },
  {
   "cell_type": "code",
   "execution_count": 12,
   "metadata": {},
   "outputs": [],
   "source": [
    "A.to_csv(\"../data/GIF_label_adj.csv\")"
   ]
  },
  {
   "cell_type": "markdown",
   "metadata": {},
   "source": [
    "# Load geodesic distance between samples\n",
    "Pre-Computed using freesurfer\n",
    "\n",
    "*Background:* A better approach is to build a graph on actual distances between samples, in the case of the brain geodesic distances are preferable over Euclidean distances. In order to obtain the geodesic distances used here, the AIBS samples were first mapped to the closest vertex in the FSA5 template. Next, the <code>mris_pmake</code> function of FreeSurfer was used to compute the geodesic distances from that vertex to all other vertices."
   ]
  },
  {
   "cell_type": "code",
   "execution_count": 13,
   "metadata": {},
   "outputs": [],
   "source": [
    "#map wellID to FSA5 vertex ID.\n",
    "well2vid = pd.read_csv(\"../data/FTD_AIBS_sample2vid.csv\", index_col=0)"
   ]
  },
  {
   "cell_type": "code",
   "execution_count": 47,
   "metadata": {},
   "outputs": [],
   "source": [
    "#distance from each sample to all other FSA5 vertices\n",
    "geo_dist = pd.read_csv(\"../data/fsa5_geo_FTDAIBS.csv.gz\", header=None)\n",
    "geo_dist.set_index(well2vid.index, inplace=True)"
   ]
  },
  {
   "cell_type": "code",
   "execution_count": 16,
   "metadata": {},
   "outputs": [],
   "source": [
    "#geodesic distances between all pairs of samples\n",
    "sample_geo_dist = geo_dist.loc[:,well2vid.vid]\n",
    "sample_geo_dist.columns = well2vid.index"
   ]
  },
  {
   "cell_type": "markdown",
   "metadata": {},
   "source": [
    "## Build adjecency matrix for AIBS samples"
   ]
  },
  {
   "cell_type": "code",
   "execution_count": 20,
   "metadata": {},
   "outputs": [],
   "source": [
    "sample_info = pd.read_csv(selected_samples_file, index_col=0)"
   ]
  },
  {
   "cell_type": "code",
   "execution_count": 21,
   "metadata": {},
   "outputs": [
    {
     "data": {
      "text/plain": [
       "(1248, 19)"
      ]
     },
     "execution_count": 21,
     "metadata": {},
     "output_type": "execute_result"
    }
   ],
   "source": [
    "sample_info.shape"
   ]
  },
  {
   "cell_type": "code",
   "execution_count": 24,
   "metadata": {},
   "outputs": [],
   "source": [
    "sample_geo_dist2 = sample_geo_dist.loc[sample_info.well_id,sample_info.well_id]"
   ]
  },
  {
   "cell_type": "code",
   "execution_count": 22,
   "metadata": {},
   "outputs": [],
   "source": [
    "nSample = sample_info.shape[0]\n",
    "sA = np.zeros([nSample,nSample], int)"
   ]
  },
  {
   "cell_type": "markdown",
   "metadata": {},
   "source": [
    "## Let's make a subject-specific K-NN graph\n",
    "This builds a K-NN (Nearest Neighbors) graph for samples only originating from the same subject (still stored only in one matrix, though). "
   ]
  },
  {
   "cell_type": "code",
   "execution_count": 31,
   "metadata": {},
   "outputs": [],
   "source": [
    "k=10\n"
   ]
  },
  {
   "cell_type": "code",
   "execution_count": 32,
   "metadata": {},
   "outputs": [],
   "source": [
    "sAknn_subj = np.zeros([nSample,nSample], int)\n",
    "for i in range(nSample):\n",
    "    mylab    = sample_info.iloc[i,:].loc[\"probe2label\"]\n",
    "    mysubj   = sample_info.iloc[i,:].loc[\"sampleID\"]\n",
    "    \n",
    "    same_subj = sample_info.loc[:,\"sampleID\"] == mysubj\n",
    "    coord = sample_info.iloc[i,:].loc[\"corrected_mni_x\":\"corrected_mni_z\"]\n",
    "    sdists   = sample_geo_dist2.iloc[i,:]\n",
    "    sdists.index = same_subj.index    \n",
    "    cmax = max(sdists)\n",
    "    sdists[~same_subj] = 10.0 * cmax\n",
    "    cpy = np.copy(sdists)\n",
    "    dc = getKnnCut(cpy,k)\n",
    "    close_samples = (sdists <= dc)\n",
    "    sAknn_subj[i,close_samples] = 1\n",
    "    sAknn_subj[close_samples,i] = 1"
   ]
  },
  {
   "cell_type": "code",
   "execution_count": 33,
   "metadata": {},
   "outputs": [
    {
     "data": {
      "text/plain": [
       "11"
      ]
     },
     "execution_count": 33,
     "metadata": {},
     "output_type": "execute_result"
    }
   ],
   "source": [
    "min(pd.DataFrame(sAknn_subj).apply(sum, axis=0))"
   ]
  },
  {
   "cell_type": "code",
   "execution_count": 34,
   "metadata": {},
   "outputs": [],
   "source": [
    "sAknn_subjdf=pd.DataFrame(sAknn_subj)\n",
    "sAknn_subjdf.index=sample_info.well_id\n",
    "sAknn_subjdf.columns=sample_info.well_id"
   ]
  },
  {
   "cell_type": "code",
   "execution_count": 36,
   "metadata": {},
   "outputs": [],
   "source": [
    "sAknn_subjdf.to_csv(\"../data/sample_adjecency_knn10_geo_subj.csv\")\n"
   ]
  },
  {
   "cell_type": "markdown",
   "metadata": {},
   "source": [
    "## Let's make a K-nn graph\n",
    "This builds a K-NN (Nearest Neighbors) graph for the entire dataset. Ignoring that samples come from different subjects.\n"
   ]
  },
  {
   "cell_type": "code",
   "execution_count": 42,
   "metadata": {},
   "outputs": [],
   "source": [
    "#set K\n",
    "k=10"
   ]
  },
  {
   "cell_type": "code",
   "execution_count": 43,
   "metadata": {},
   "outputs": [],
   "source": [
    "def getKnnCut(mydist,k):\n",
    "    mydist.sort()\n",
    "    dc = mydist[k]\n",
    "    return(dc)"
   ]
  },
  {
   "cell_type": "code",
   "execution_count": 44,
   "metadata": {},
   "outputs": [],
   "source": [
    "sAknn = np.zeros([nSample,nSample], int)\n",
    "for i in range(nSample):\n",
    "    mylab    = sample_info.iloc[i,:].loc[\"probe2label\"]\n",
    "    coord = sample_info.iloc[i,:].loc[\"corrected_mni_x\":\"corrected_mni_z\"]\n",
    "    sdists   = sample_geo_dist2.iloc[i,:]\n",
    "    sdists.index = same_subj.index    \n",
    "\n",
    "    cpy = np.copy(sdists)\n",
    "    dc = getKnnCut(cpy,k)\n",
    "    close_samples = (sdists <= dc)\n",
    "    sAknn[i,close_samples] = 1\n",
    "    sAknn[close_samples,i] = 1"
   ]
  },
  {
   "cell_type": "code",
   "execution_count": 45,
   "metadata": {},
   "outputs": [],
   "source": [
    "sAknndf=pd.DataFrame(sAknn)\n",
    "sAknndf.index=sample_info.well_id\n",
    "sAknndf.columns=sample_info.well_id"
   ]
  },
  {
   "cell_type": "code",
   "execution_count": 46,
   "metadata": {},
   "outputs": [],
   "source": [
    "sAknndf.to_csv(\"../data/sample_adjecency_knn10_geo.csv\")"
   ]
  },
  {
   "cell_type": "code",
   "execution_count": null,
   "metadata": {},
   "outputs": [],
   "source": []
  }
 ],
 "metadata": {
  "kernelspec": {
   "display_name": "Python 3",
   "language": "python",
   "name": "python3"
  },
  "language_info": {
   "codemirror_mode": {
    "name": "ipython",
    "version": 3
   },
   "file_extension": ".py",
   "mimetype": "text/x-python",
   "name": "python",
   "nbconvert_exporter": "python",
   "pygments_lexer": "ipython3",
   "version": "3.6.8"
  }
 },
 "nbformat": 4,
 "nbformat_minor": 2
}
